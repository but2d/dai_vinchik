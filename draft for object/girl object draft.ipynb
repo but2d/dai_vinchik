{
 "cells": [
  {
   "cell_type": "code",
   "execution_count": 5,
   "metadata": {
    "collapsed": false
   },
   "outputs": [],
   "source": [
    "from random import randrange, choice\n",
    "from collections import namedtuple"
   ]
  },
  {
   "cell_type": "code",
   "execution_count": 39,
   "metadata": {
    "collapsed": false
   },
   "outputs": [],
   "source": [
    "class Girl:\n",
    "    \"\"\"Girl object class template\"\"\"\n",
    "    \n",
    "    # Here we've got some girl's attrs (string lists), \n",
    "    # in real-time the client will get it from chat \n",
    "    # with the help of telethon library.\n",
    "    name_list = ['Nadya', 'Liza', 'Nastya', 'Ksenya', 'Masha']\n",
    "    age_list = ['16', '17', '18', '19', '20']\n",
    "    desc_list = ['Let\\'s go for a walk', 'Love u...', 'Hate u!',\n",
    "                 'I\\'ll send u nudes', 'You\\'ll go to prison']\n",
    "    \n",
    "    GirlTemp = namedtuple('Girl', ['name', 'age', 'desc'])\n",
    "    \n",
    "    def __init__(self):\n",
    "        \"\"\"Create first girl\"\"\"\n",
    "        self._girl = self.__new_girl()\n",
    "    \n",
    "    def __new_girl(self): # private method, return girl-namedtuple \n",
    "        \"\"\"Return 'Girl' namedtuple object\"\"\"\n",
    "        new_name = choice(self.name_list)\n",
    "        new_age = choice(self.age_list)\n",
    "        new_desc = choice(self.desc_list)\n",
    "        return self.GirlTemp(new_name, new_age, new_desc)\n",
    "        \n",
    "    def name(self) -> str:\n",
    "        \"\"\"Get girl's name\"\"\"\n",
    "        return self._girl.name\n",
    "    \n",
    "    def age(self) -> str: # maybe we should return int type?\n",
    "        \"\"\"Get girl's age\"\"\" # in that case let's check it for non-int types\n",
    "        return self._girl.age\n",
    "    \n",
    "    def desc(self) -> str:\n",
    "        \"\"\"Get girl's description\"\"\"\n",
    "        return self._girl.desc\n",
    "      \n",
    "    def refresh(self) -> str: \n",
    "        \"\"\"Create new girl\"\"\"\n",
    "        self._girl = self.__new_girl()"
   ]
  },
  {
   "cell_type": "code",
   "execution_count": 45,
   "metadata": {
    "collapsed": false
   },
   "outputs": [
    {
     "name": "stdout",
     "output_type": "stream",
     "text": [
      "1 girl: \n",
      " > Name: Masha \n",
      " > Age: 18 \n",
      " > Description: I'll send u nudes\n",
      "2 girl: \n",
      " > Name: Nastya \n",
      " > Age: 18 \n",
      " > Description: Hate u!\n",
      "3 girl: \n",
      " > Name: Nastya \n",
      " > Age: 18 \n",
      " > Description: Love u...\n",
      "4 girl: \n",
      " > Name: Ksenya \n",
      " > Age: 19 \n",
      " > Description: Hate u!\n",
      "5 girl: \n",
      " > Name: Masha \n",
      " > Age: 17 \n",
      " > Description: Let's go for a walk\n"
     ]
    }
   ],
   "source": [
    "# let's check our object:\n",
    "my_girl = Girl()\n",
    "\n",
    "for i in range(1, 6):\n",
    "    print('{} girl:'.format(i), \n",
    "          '\\n > Name:', my_girl.name(), \n",
    "          '\\n > Age:', my_girl.age(), \n",
    "          '\\n > Description:', my_girl.desc())\n",
    "    my_girl.refresh()"
   ]
  }
 ],
 "metadata": {
  "anaconda-cloud": {},
  "kernelspec": {
   "display_name": "Python [conda root]",
   "language": "python",
   "name": "conda-root-py"
  },
  "language_info": {
   "codemirror_mode": {
    "name": "ipython",
    "version": 3
   },
   "file_extension": ".py",
   "mimetype": "text/x-python",
   "name": "python",
   "nbconvert_exporter": "python",
   "pygments_lexer": "ipython3",
   "version": "3.5.2"
  }
 },
 "nbformat": 4,
 "nbformat_minor": 1
}
